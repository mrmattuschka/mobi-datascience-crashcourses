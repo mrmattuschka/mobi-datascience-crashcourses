{
 "cells": [
  {
   "cell_type": "markdown",
   "metadata": {},
   "source": [
    "# Custom functions, OOP, Packaging 📦"
   ]
  },
  {
   "cell_type": "markdown",
   "metadata": {},
   "source": [
    "This is going to be a live session. I really need some 💤."
   ]
  },
  {
   "cell_type": "markdown",
   "metadata": {},
   "source": [
    "Outline:\n",
    "- Custom functions\n",
    "    - Void/Return\n",
    "    - Unpacking\n",
    "- Namespaces (e.g. w/ some sort of package)\n",
    "- OOP\n",
    "    - General concepts of OOP\n",
    "        - Classes\n",
    "        - Instances\n",
    "    - Defining classes\n",
    "    - Class functions - _dont forget about `self`!_\n",
    "    - Constructors\n",
    "    - Inheritance\n",
    "        - super()\n",
    "        - Multiple inheritance\n",
    "    - Operations with instances\n",
    "        - Handling\n",
    "        - Changing attributes\n",
    "- Packaging\n",
    "    - Importing your new package\n",
    "    - Modularity"
   ]
  },
  {
   "cell_type": "code",
   "execution_count": null,
   "metadata": {},
   "outputs": [],
   "source": []
  }
 ],
 "metadata": {
  "kernelspec": {
   "display_name": "Python 3",
   "language": "python",
   "name": "python3"
  },
  "language_info": {
   "codemirror_mode": {
    "name": "ipython",
    "version": 3
   },
   "file_extension": ".py",
   "mimetype": "text/x-python",
   "name": "python",
   "nbconvert_exporter": "python",
   "pygments_lexer": "ipython3",
   "version": "3.7.1"
  }
 },
 "nbformat": 4,
 "nbformat_minor": 2
}
